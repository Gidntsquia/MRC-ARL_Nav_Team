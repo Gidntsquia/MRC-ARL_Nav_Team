{
 "cells": [
  {
   "cell_type": "markdown",
   "id": "54c3ce9e",
   "metadata": {},
   "source": [
    "# Hello Aruco"
   ]
  },
  {
   "cell_type": "code",
   "execution_count": null,
   "id": "183e7e7b",
   "metadata": {},
   "outputs": [],
   "source": [
    "import sys\n",
    "import os\n",
    "sys.path.append(\"/usr/local/OFF\")"
   ]
  },
  {
   "cell_type": "code",
   "execution_count": null,
   "id": "a2c7312a",
   "metadata": {},
   "outputs": [],
   "source": [
    "# assert os.path.exists('./calibration.pkl')"
   ]
  },
  {
   "cell_type": "code",
   "execution_count": null,
   "id": "06e4167d",
   "metadata": {},
   "outputs": [],
   "source": [
    "import matplotlib.pyplot as plt\n",
    "import matplotlib.patches as patches\n",
    "import numpy as np\n",
    "import pyrealsense2 as rs\n",
    "from PIL import Image\n",
    "import cv2\n",
    "\n",
    "from pyzbar.pyzbar import decode\n",
    "\n",
    "pipeline = rs.pipeline()\n",
    "config = rs.config()"
   ]
  },
  {
   "cell_type": "code",
   "execution_count": null,
   "id": "a2e70905",
   "metadata": {},
   "outputs": [],
   "source": [
    "config.enable_stream(rs.stream.color, 1280, 720, rs.format.bgr8, 30)\n",
    "profile = pipeline.start(config)"
   ]
  },
  {
   "cell_type": "code",
   "execution_count": null,
   "id": "4376c857",
   "metadata": {},
   "outputs": [],
   "source": [
    "aruco_dict = cv2.aruco.Dictionary_get(cv2.aruco.DICT_6X6_1000)\n",
    "# aruco_dict = cv2.aruco.Dictionary_get(cv2.aruco.DICT_5X5_1000)\n",
    "parameters = cv2.aruco.DetectorParameters_create()\n",
    "parameters.aprilTagMinClusterPixels = 1\n",
    "parameters.aprilTagCriticalRad = 0"
   ]
  },
  {
   "cell_type": "code",
   "execution_count": null,
   "id": "92e84354",
   "metadata": {},
   "outputs": [],
   "source": [
    "frames = pipeline.wait_for_frames()\n",
    "frames"
   ]
  },
  {
   "cell_type": "code",
   "execution_count": null,
   "id": "06ad8094",
   "metadata": {},
   "outputs": [],
   "source": [
    "frame = frames[0]\n",
    "color_image = np.asanyarray(frame.get_data())\n",
    "color_image = color_image[...,::-1].copy()"
   ]
  },
  {
   "cell_type": "code",
   "execution_count": null,
   "id": "85d033de",
   "metadata": {},
   "outputs": [],
   "source": [
    "plt.imshow(color_image)\n",
    "plt.show()"
   ]
  },
  {
   "cell_type": "code",
   "execution_count": null,
   "id": "e4a160bf",
   "metadata": {},
   "outputs": [],
   "source": [
    "binary_frame = cv2.threshold(color_image,127,255,cv2.THRESH_BINARY)[1]\n",
    "plt.imshow(binary_frame)\n",
    "plt.show()"
   ]
  },
  {
   "cell_type": "code",
   "execution_count": null,
   "id": "2d832d9e",
   "metadata": {},
   "outputs": [],
   "source": [
    "decode(color_image)"
   ]
  },
  {
   "cell_type": "code",
   "execution_count": null,
   "id": "65da0bb4",
   "metadata": {},
   "outputs": [],
   "source": [
    "accepted, ids, rejected = cv2.aruco.detectMarkers(color_image, aruco_dict, parameters=parameters)\n",
    "accepted, ids, rejected"
   ]
  },
  {
   "cell_type": "code",
   "execution_count": null,
   "id": "4db45af9",
   "metadata": {},
   "outputs": [],
   "source": [
    "good_frame = cv2.aruco.drawDetectedMarkers(image=color_image, ids=ids, corners=accepted)\n",
    "\n",
    "plt.imshow(good_frame)\n",
    "plt.show()"
   ]
  },
  {
   "cell_type": "code",
   "execution_count": null,
   "id": "dda35ab4",
   "metadata": {},
   "outputs": [],
   "source": [
    "bad_frame = cv2.aruco.drawDetectedMarkers(image=color_image, corners=rejected)\n",
    "\n",
    "plt.imshow(bad_frame)\n",
    "plt.show()"
   ]
  },
  {
   "cell_type": "code",
   "execution_count": null,
   "id": "2dc09485",
   "metadata": {},
   "outputs": [],
   "source": [
    "im = Image.fromarray(good_frame)\n",
    "im.save('test.jpg')"
   ]
  }
 ],
 "metadata": {
  "kernelspec": {
   "display_name": "Python 3",
   "language": "python",
   "name": "python3"
  },
  "language_info": {
   "codemirror_mode": {
    "name": "ipython",
    "version": 3
   },
   "file_extension": ".py",
   "mimetype": "text/x-python",
   "name": "python",
   "nbconvert_exporter": "python",
   "pygments_lexer": "ipython3",
   "version": "3.6.9"
  }
 },
 "nbformat": 4,
 "nbformat_minor": 5
}
