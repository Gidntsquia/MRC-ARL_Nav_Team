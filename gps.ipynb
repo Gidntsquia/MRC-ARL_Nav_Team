{
 "cells": [
  {
   "cell_type": "markdown",
   "metadata": {},
   "source": [
    "# GPS Module testing"
   ]
  },
  {
   "cell_type": "code",
   "execution_count": 1,
   "metadata": {},
   "outputs": [],
   "source": [
    "# import gps\n",
    "import serial\n",
    "import time\n",
    "import adafruit_gps"
   ]
  },
  {
   "cell_type": "code",
   "execution_count": 2,
   "metadata": {},
   "outputs": [],
   "source": [
    "uart = serial.Serial(\"/dev/tty.SLAB_USBtoUART\", baudrate=9600, timeout=10) # ty.usbserial-210\n",
    "\n",
    "gps = adafruit_gps.GPS(uart, debug=False)"
   ]
  },
  {
   "cell_type": "code",
   "execution_count": 3,
   "metadata": {},
   "outputs": [],
   "source": [
    "gps.send_command(b\"PMTK314,0,1,0,1,0,0,0,0,0,0,0,0,0,0,0,0,0,0,0\")\n",
    "gps.send_command(b\"PMTK220,1000\")\n",
    "last_print = time.monotonic()"
   ]
  },
  {
   "cell_type": "code",
   "execution_count": 4,
   "metadata": {},
   "outputs": [
    {
     "name": "stdout",
     "output_type": "stream",
     "text": [
      "========================================\n",
      "Fix timestamp: 0/0/0 16:44:40\n",
      "Latitude: 38.990378 degrees\n",
      "Longitude: -76.937956 degrees\n",
      "Fix quality: 1\n",
      "# satellites: 15\n",
      "Altitude: 29.5 meters\n",
      "Horizontal dilution: 0.74\n",
      "Height geo ID: -33.5 meters\n",
      "========================================\n",
      "Fix timestamp: 7/27/2023 16:44:52\n",
      "Latitude: 38.990380 degrees\n",
      "Longitude: -76.937956 degrees\n",
      "Fix quality: 1\n",
      "# satellites: 15\n",
      "Altitude: 29.5 meters\n",
      "Speed: 0.04 knots\n",
      "Track angle: 0.0 degrees\n",
      "Horizontal dilution: 0.74\n",
      "Height geo ID: -33.5 meters\n",
      "========================================\n",
      "Fix timestamp: 7/27/2023 16:44:53\n",
      "Latitude: 38.990380 degrees\n",
      "Longitude: -76.937956 degrees\n",
      "Fix quality: 1\n",
      "# satellites: 14\n",
      "Altitude: 29.5 meters\n",
      "Speed: 0.02 knots\n",
      "Track angle: 0.0 degrees\n",
      "Horizontal dilution: 0.97\n",
      "Height geo ID: -33.5 meters\n",
      "========================================\n",
      "Fix timestamp: 7/27/2023 16:44:54\n",
      "Latitude: 38.990380 degrees\n",
      "Longitude: -76.937956 degrees\n",
      "Fix quality: 1\n",
      "# satellites: 14\n",
      "Altitude: 29.5 meters\n",
      "Speed: 0.03 knots\n",
      "Track angle: 0.0 degrees\n",
      "Horizontal dilution: 0.97\n",
      "Height geo ID: -33.5 meters\n",
      "========================================\n",
      "Fix timestamp: 7/27/2023 16:44:55\n",
      "Latitude: 38.990380 degrees\n",
      "Longitude: -76.937956 degrees\n",
      "Fix quality: 1\n",
      "# satellites: 14\n",
      "Altitude: 29.5 meters\n",
      "Speed: 0.03 knots\n",
      "Track angle: 0.0 degrees\n",
      "Horizontal dilution: 0.97\n",
      "Height geo ID: -33.5 meters\n",
      "========================================\n",
      "Fix timestamp: 7/27/2023 16:44:56\n",
      "Latitude: 38.990380 degrees\n",
      "Longitude: -76.937956 degrees\n",
      "Fix quality: 1\n",
      "# satellites: 15\n",
      "Altitude: 29.5 meters\n",
      "Speed: 0.02 knots\n",
      "Track angle: 0.0 degrees\n",
      "Horizontal dilution: 0.74\n",
      "Height geo ID: -33.5 meters\n",
      "========================================\n",
      "Fix timestamp: 7/27/2023 16:44:57\n",
      "Latitude: 38.990380 degrees\n",
      "Longitude: -76.937956 degrees\n",
      "Fix quality: 1\n",
      "# satellites: 15\n",
      "Altitude: 29.5 meters\n",
      "Speed: 0.01 knots\n",
      "Track angle: 0.0 degrees\n",
      "Horizontal dilution: 0.74\n",
      "Height geo ID: -33.5 meters\n"
     ]
    },
    {
     "ename": "KeyboardInterrupt",
     "evalue": "",
     "output_type": "error",
     "traceback": [
      "\u001b[0;31m---------------------------------------------------------------------------\u001b[0m",
      "\u001b[0;31mKeyboardInterrupt\u001b[0m                         Traceback (most recent call last)",
      "Cell \u001b[0;32mIn[4], line 6\u001b[0m\n\u001b[1;32m      1\u001b[0m \u001b[39mwhile\u001b[39;00m \u001b[39mTrue\u001b[39;00m:\n\u001b[1;32m      2\u001b[0m     \u001b[39m# Make sure to call gps.update() every loop iteration and at least twice\u001b[39;00m\n\u001b[1;32m      3\u001b[0m     \u001b[39m# as fast as data comes from the GPS unit (usually every second).\u001b[39;00m\n\u001b[1;32m      4\u001b[0m     \u001b[39m# This returns a bool that's true if it parsed new data (you can ignore it\u001b[39;00m\n\u001b[1;32m      5\u001b[0m     \u001b[39m# though if you don't care and instead look at the has_fix property).\u001b[39;00m\n\u001b[0;32m----> 6\u001b[0m     gps\u001b[39m.\u001b[39;49mupdate()\n\u001b[1;32m      7\u001b[0m     \u001b[39m# Every second print out current location details if there's a fix.\u001b[39;00m\n\u001b[1;32m      8\u001b[0m     current \u001b[39m=\u001b[39m time\u001b[39m.\u001b[39mmonotonic()\n",
      "File \u001b[0;32m/opt/homebrew/anaconda3/lib/python3.9/site-packages/adafruit_gps.py:319\u001b[0m, in \u001b[0;36mGPS.update\u001b[0;34m(self)\u001b[0m\n\u001b[1;32m    315\u001b[0m \u001b[39m# Grab a sentence and check its data type to call the appropriate\u001b[39;00m\n\u001b[1;32m    316\u001b[0m \u001b[39m# parsing function.\u001b[39;00m\n\u001b[1;32m    318\u001b[0m \u001b[39mtry\u001b[39;00m:\n\u001b[0;32m--> 319\u001b[0m     sentence \u001b[39m=\u001b[39m \u001b[39mself\u001b[39;49m\u001b[39m.\u001b[39;49m_parse_sentence()\n\u001b[1;32m    320\u001b[0m \u001b[39mexcept\u001b[39;00m \u001b[39mUnicodeError\u001b[39;00m:\n\u001b[1;32m    321\u001b[0m     \u001b[39mreturn\u001b[39;00m \u001b[39mNone\u001b[39;00m\n",
      "File \u001b[0;32m/opt/homebrew/anaconda3/lib/python3.9/site-packages/adafruit_gps.py:452\u001b[0m, in \u001b[0;36mGPS._parse_sentence\u001b[0;34m(self)\u001b[0m\n\u001b[1;32m    451\u001b[0m \u001b[39mdef\u001b[39;00m \u001b[39m_parse_sentence\u001b[39m(\u001b[39mself\u001b[39m) \u001b[39m-\u001b[39m\u001b[39m>\u001b[39m Optional[Tuple[\u001b[39mstr\u001b[39m, \u001b[39mstr\u001b[39m]]:\n\u001b[0;32m--> 452\u001b[0m     sentence \u001b[39m=\u001b[39m \u001b[39mself\u001b[39;49m\u001b[39m.\u001b[39;49m_read_sentence()\n\u001b[1;32m    454\u001b[0m     \u001b[39m# sentence is a valid NMEA with a valid checksum\u001b[39;00m\n\u001b[1;32m    455\u001b[0m     \u001b[39mif\u001b[39;00m sentence \u001b[39mis\u001b[39;00m \u001b[39mNone\u001b[39;00m:\n",
      "File \u001b[0;32m/opt/homebrew/anaconda3/lib/python3.9/site-packages/adafruit_gps.py:424\u001b[0m, in \u001b[0;36mGPS._read_sentence\u001b[0;34m(self)\u001b[0m\n\u001b[1;32m    418\u001b[0m \u001b[39mdef\u001b[39;00m \u001b[39m_read_sentence\u001b[39m(\u001b[39mself\u001b[39m) \u001b[39m-\u001b[39m\u001b[39m>\u001b[39m Optional[\u001b[39mstr\u001b[39m]:\n\u001b[1;32m    419\u001b[0m     \u001b[39m# Parse any NMEA sentence that is available.\u001b[39;00m\n\u001b[1;32m    420\u001b[0m     \u001b[39m# pylint: disable=len-as-condition\u001b[39;00m\n\u001b[1;32m    421\u001b[0m     \u001b[39m# This needs to be refactored when it can be tested.\u001b[39;00m\n\u001b[1;32m    422\u001b[0m \n\u001b[1;32m    423\u001b[0m     \u001b[39m# Only continue if we have at least 11 bytes in the input buffer\u001b[39;00m\n\u001b[0;32m--> 424\u001b[0m     \u001b[39mif\u001b[39;00m \u001b[39mself\u001b[39;49m\u001b[39m.\u001b[39;49min_waiting \u001b[39m<\u001b[39m \u001b[39m11\u001b[39m:\n\u001b[1;32m    425\u001b[0m         \u001b[39mreturn\u001b[39;00m \u001b[39mNone\u001b[39;00m\n\u001b[1;32m    427\u001b[0m     sentence \u001b[39m=\u001b[39m \u001b[39mself\u001b[39m\u001b[39m.\u001b[39mreadline()\n",
      "File \u001b[0;32m/opt/homebrew/anaconda3/lib/python3.9/site-packages/adafruit_gps.py:411\u001b[0m, in \u001b[0;36mGPS.in_waiting\u001b[0;34m(self)\u001b[0m\n\u001b[1;32m    408\u001b[0m \u001b[39m@property\u001b[39m\n\u001b[1;32m    409\u001b[0m \u001b[39mdef\u001b[39;00m \u001b[39min_waiting\u001b[39m(\u001b[39mself\u001b[39m) \u001b[39m-\u001b[39m\u001b[39m>\u001b[39m \u001b[39mint\u001b[39m:\n\u001b[1;32m    410\u001b[0m \u001b[39m    \u001b[39m\u001b[39m\"\"\"Returns number of bytes available in UART read buffer\"\"\"\u001b[39;00m\n\u001b[0;32m--> 411\u001b[0m     \u001b[39mreturn\u001b[39;00m \u001b[39mself\u001b[39;49m\u001b[39m.\u001b[39;49m_uart\u001b[39m.\u001b[39;49min_waiting\n",
      "File \u001b[0;32m/opt/homebrew/anaconda3/lib/python3.9/site-packages/serial/serialposix.py:550\u001b[0m, in \u001b[0;36mSerial.in_waiting\u001b[0;34m(self)\u001b[0m\n\u001b[1;32m    548\u001b[0m \u001b[39m#~ s = fcntl.ioctl(self.fd, termios.FIONREAD, TIOCM_zero_str)\u001b[39;00m\n\u001b[1;32m    549\u001b[0m s \u001b[39m=\u001b[39m fcntl\u001b[39m.\u001b[39mioctl(\u001b[39mself\u001b[39m\u001b[39m.\u001b[39mfd, TIOCINQ, TIOCM_zero_str)\n\u001b[0;32m--> 550\u001b[0m \u001b[39mreturn\u001b[39;00m struct\u001b[39m.\u001b[39;49munpack(\u001b[39m'\u001b[39;49m\u001b[39mI\u001b[39;49m\u001b[39m'\u001b[39;49m, s)[\u001b[39m0\u001b[39m]\n",
      "\u001b[0;31mKeyboardInterrupt\u001b[0m: "
     ]
    }
   ],
   "source": [
    "while True:\n",
    "    # Make sure to call gps.update() every loop iteration and at least twice\n",
    "    # as fast as data comes from the GPS unit (usually every second).\n",
    "    # This returns a bool that's true if it parsed new data (you can ignore it\n",
    "    # though if you don't care and instead look at the has_fix property).\n",
    "    gps.update()\n",
    "    # Every second print out current location details if there's a fix.\n",
    "    current = time.monotonic()\n",
    "    if current - last_print >= 1.0:\n",
    "        last_print = current\n",
    "        if not gps.has_fix:\n",
    "            # Try again if we don't have a fix yet.\n",
    "            print(\"Waiting for fix...\")\n",
    "            continue\n",
    "        # We have a fix! (gps.has_fix is true)\n",
    "        # Print out details about the fix like location, date, etc.\n",
    "        print(\"=\" * 40)  # Print a separator line.\n",
    "        print(\n",
    "            \"Fix timestamp: {}/{}/{} {:02}:{:02}:{:02}\".format(\n",
    "                gps.timestamp_utc.tm_mon,  # Grab parts of the time from the\n",
    "                gps.timestamp_utc.tm_mday,  # struct_time object that holds\n",
    "                gps.timestamp_utc.tm_year,  # the fix time.  Note you might\n",
    "                gps.timestamp_utc.tm_hour,  # not get all data like year, day,\n",
    "                gps.timestamp_utc.tm_min,  # month!\n",
    "                gps.timestamp_utc.tm_sec,\n",
    "            )\n",
    "        )\n",
    "        print(\"Latitude: {0:.6f} degrees\".format(gps.latitude))\n",
    "        print(\"Longitude: {0:.6f} degrees\".format(gps.longitude))\n",
    "        print(\"Fix quality: {}\".format(gps.fix_quality))\n",
    "        # Some attributes beyond latitude, longitude and timestamp are optional\n",
    "        # and might not be present.  Check if they're None before trying to use!\n",
    "        if gps.satellites is not None:\n",
    "            print(\"# satellites: {}\".format(gps.satellites))\n",
    "        if gps.altitude_m is not None:\n",
    "            print(\"Altitude: {} meters\".format(gps.altitude_m))\n",
    "        if gps.speed_knots is not None:\n",
    "            print(\"Speed: {} knots\".format(gps.speed_knots))\n",
    "        if gps.track_angle_deg is not None:\n",
    "            print(\"Track angle: {} degrees\".format(gps.track_angle_deg))\n",
    "        if gps.horizontal_dilution is not None:\n",
    "            print(\"Horizontal dilution: {}\".format(gps.horizontal_dilution))\n",
    "        if gps.height_geoid is not None:\n",
    "            print(\"Height geo ID: {} meters\".format(gps.height_geoid))"
   ]
  }
 ],
 "metadata": {
  "kernelspec": {
   "display_name": "Python 3",
   "language": "python",
   "name": "python3"
  },
  "language_info": {
   "codemirror_mode": {
    "name": "ipython",
    "version": 3
   },
   "file_extension": ".py",
   "mimetype": "text/x-python",
   "name": "python",
   "nbconvert_exporter": "python",
   "pygments_lexer": "ipython3",
   "version": "3.9.17"
  },
  "orig_nbformat": 4
 },
 "nbformat": 4,
 "nbformat_minor": 2
}
