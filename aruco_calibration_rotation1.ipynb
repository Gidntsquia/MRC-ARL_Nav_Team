{
 "cells": [
  {
   "cell_type": "markdown",
   "metadata": {},
   "source": [
    "# Camera calibration using CHARUCO"
   ]
  },
  {
   "cell_type": "code",
   "execution_count": null,
   "metadata": {
    "collapsed": true
   },
   "outputs": [],
   "source": [
    "import numpy as np\n",
    "import cv2, PIL, os\n",
    "from cv2 import aruco\n",
    "from mpl_toolkits.mplot3d import Axes3D\n",
    "import matplotlib.pyplot as plt\n",
    "import matplotlib as mpl\n",
    "import pandas as pd\n",
    "%matplotlib nbagg\n"
   ]
  },
  {
   "cell_type": "markdown",
   "metadata": {
    "collapsed": true
   },
   "source": [
    "## 2. Camera pose estimation using CHARUCO chessboard\n",
    "\n",
    "First, let's create the board."
   ]
  },
  {
   "cell_type": "code",
   "execution_count": null,
   "metadata": {
    "scrolled": false
   },
   "outputs": [],
   "source": [
    "workdir = \"./workdir/\"\n",
    "aruco_dict = aruco.Dictionary_get(aruco.DICT_6X6_250)\n",
    "board = aruco.CharucoBoard_create(7, 5, 1, .8, aruco_dict)\n",
    "imboard = board.draw((2000, 2000))\n",
    "cv2.imwrite(workdir + \"chessboard.tiff\", imboard)\n",
    "fig = plt.figure()\n",
    "ax = fig.add_subplot(1,1,1)\n",
    "plt.imshow(imboard, cmap = mpl.cm.gray, interpolation = \"nearest\")\n",
    "ax.axis(\"off\")\n",
    "plt.show()\n"
   ]
  },
  {
   "cell_type": "markdown",
   "metadata": {},
   "source": [
    "And take photos of it from multiple angles, for example:"
   ]
  },
  {
   "cell_type": "code",
   "execution_count": null,
   "metadata": {},
   "outputs": [],
   "source": [
    "datadir = \"../../data/calib_tel_ludo/\"\n",
    "images = np.array([datadir + f for f in os.listdir(datadir) if f.endswith(\".png\") ])\n",
    "order = np.argsort([int(p.split(\".\")[-2].split(\"_\")[-1]) for p in images])\n",
    "images = images[order]\n",
    "images"
   ]
  },
  {
   "cell_type": "code",
   "execution_count": null,
   "metadata": {},
   "outputs": [],
   "source": [
    "im = PIL.Image.open(images[0])\n",
    "fig = plt.figure()\n",
    "ax = fig.add_subplot(1,1,1)\n",
    "plt.imshow(im)\n",
    "#ax.axis('off')\n",
    "plt.show()"
   ]
  },
  {
   "cell_type": "markdown",
   "metadata": {},
   "source": [
    "Now, the camera calibration can be done using all the images of the chessboard. Two functions are necessary:\n",
    "\n",
    "* The first will detect markers on all the images and.\n",
    "* The second will proceed the detected markers to estimage the camera calibration data."
   ]
  },
  {
   "cell_type": "code",
   "execution_count": null,
   "metadata": {
    "collapsed": true
   },
   "outputs": [],
   "source": [
    "def read_chessboards(images):\n",
    "    \"\"\"\n",
    "    Charuco base pose estimation.\n",
    "    \"\"\"\n",
    "    print(\"POSE ESTIMATION STARTS:\")\n",
    "    allCorners = []\n",
    "    allIds = []\n",
    "    decimator = 0\n",
    "    # SUB PIXEL CORNER DETECTION CRITERION\n",
    "    criteria = (cv2.TERM_CRITERIA_EPS + cv2.TERM_CRITERIA_MAX_ITER, 100, 0.00001)\n",
    "\n",
    "    for im in images:\n",
    "        print(\"=> Processing image {0}\".format(im))\n",
    "        frame = cv2.imread(im)\n",
    "        gray = cv2.cvtColor(frame, cv2.COLOR_BGR2GRAY)\n",
    "        corners, ids, rejectedImgPoints = cv2.aruco.detectMarkers(gray, aruco_dict)\n",
    "        \n",
    "        if len(corners)>0:\n",
    "            # SUB PIXEL DETECTION\n",
    "            for corner in corners:\n",
    "                cv2.cornerSubPix(gray, corner, \n",
    "                                 winSize = (3,3), \n",
    "                                 zeroZone = (-1,-1), \n",
    "                                 criteria = criteria)\n",
    "            res2 = cv2.aruco.interpolateCornersCharuco(corners,ids,gray,board)        \n",
    "            if res2[1] is not None and res2[2] is not None and len(res2[1])>3 and decimator%1==0:\n",
    "                allCorners.append(res2[1])\n",
    "                allIds.append(res2[2])              \n",
    "        \n",
    "        decimator+=1   \n",
    "\n",
    "    imsize = gray.shape\n",
    "    return allCorners,allIds,imsize"
   ]
  },
  {
   "cell_type": "code",
   "execution_count": null,
   "metadata": {
    "scrolled": false
   },
   "outputs": [],
   "source": [
    "allCorners,allIds,imsize=read_chessboards(images)"
   ]
  },
  {
   "cell_type": "code",
   "execution_count": null,
   "metadata": {},
   "outputs": [],
   "source": [
    "def calibrate_camera(allCorners,allIds,imsize):   \n",
    "    \"\"\"\n",
    "    Calibrates the camera using the dected corners.\n",
    "    \"\"\"\n",
    "    print(\"CAMERA CALIBRATION\")\n",
    "    \n",
    "    cameraMatrixInit = np.array([[ 1000.,    0., imsize[0]/2.],\n",
    "                                 [    0., 1000., imsize[1]/2.],\n",
    "                                 [    0.,    0.,           1.]])\n",
    "\n",
    "    distCoeffsInit = np.zeros((5,1))\n",
    "    flags = (cv2.CALIB_USE_INTRINSIC_GUESS + cv2.CALIB_RATIONAL_MODEL + cv2.CALIB_FIX_ASPECT_RATIO) \n",
    "    #flags = (cv2.CALIB_RATIONAL_MODEL) \n",
    "    (ret, camera_matrix, distortion_coefficients0, \n",
    "     rotation_vectors, translation_vectors,\n",
    "     stdDeviationsIntrinsics, stdDeviationsExtrinsics, \n",
    "     perViewErrors) = cv2.aruco.calibrateCameraCharucoExtended(\n",
    "                      charucoCorners=allCorners,\n",
    "                      charucoIds=allIds,\n",
    "                      board=board,\n",
    "                      imageSize=imsize,\n",
    "                      cameraMatrix=cameraMatrixInit,\n",
    "                      distCoeffs=distCoeffsInit,\n",
    "                      flags=flags,\n",
    "                      criteria=(cv2.TERM_CRITERIA_EPS & cv2.TERM_CRITERIA_COUNT, 10000, 1e-9))\n",
    "\n",
    "    return ret, camera_matrix, distortion_coefficients0, rotation_vectors, translation_vectors"
   ]
  },
  {
   "cell_type": "code",
   "execution_count": null,
   "metadata": {
    "scrolled": true
   },
   "outputs": [],
   "source": [
    "%time ret, mtx, dist, rvecs, tvecs = calibrate_camera(allCorners,allIds,imsize)"
   ]
  },
  {
   "cell_type": "code",
   "execution_count": null,
   "metadata": {},
   "outputs": [],
   "source": [
    "ret"
   ]
  },
  {
   "cell_type": "code",
   "execution_count": null,
   "metadata": {},
   "outputs": [],
   "source": [
    "mtx"
   ]
  },
  {
   "cell_type": "code",
   "execution_count": null,
   "metadata": {},
   "outputs": [],
   "source": [
    "dist"
   ]
  },
  {
   "cell_type": "markdown",
   "metadata": {},
   "source": [
    "### Check calibration results"
   ]
  },
  {
   "cell_type": "code",
   "execution_count": null,
   "metadata": {
    "scrolled": false
   },
   "outputs": [],
   "source": [
    "i=20 # select image id\n",
    "plt.figure()\n",
    "frame = cv2.imread(images[i])\n",
    "img_undist = cv2.undistort(frame,mtx,dist,None)\n",
    "plt.subplot(1,2,1)\n",
    "plt.imshow(frame)\n",
    "plt.title(\"Raw image\")\n",
    "plt.axis(\"off\")\n",
    "plt.subplot(1,2,2)\n",
    "plt.imshow(img_undist)\n",
    "plt.title(\"Corrected image\")\n",
    "plt.axis(\"off\")\n",
    "plt.show()"
   ]
  },
  {
   "cell_type": "markdown",
   "metadata": {},
   "source": [
    "## 3 . Use of camera calibration to estimate 3D translation and rotation of each marker on a scene"
   ]
  },
  {
   "cell_type": "code",
   "execution_count": null,
   "metadata": {
    "scrolled": false
   },
   "outputs": [],
   "source": [
    "\n",
    "frame = cv2.imread(\"../../data/IMG_20180406_095219.jpg\")\n",
    "#frame = cv2.undistort(src = frame, cameraMatrix = mtx, distCoeffs = dist)\n",
    "plt.figure()\n",
    "plt.imshow(frame, interpolation = \"nearest\")\n",
    "plt.show()"
   ]
  },
  {
   "cell_type": "markdown",
   "metadata": {},
   "source": [
    "## Post processing"
   ]
  },
  {
   "cell_type": "code",
   "execution_count": null,
   "metadata": {},
   "outputs": [],
   "source": [
    "\n",
    "gray = cv2.cvtColor(frame, cv2.COLOR_BGR2GRAY)\n",
    "aruco_dict = aruco.Dictionary_get(aruco.DICT_6X6_250)\n",
    "parameters =  aruco.DetectorParameters_create()\n",
    "corners, ids, rejectedImgPoints = aruco.detectMarkers(gray, aruco_dict, \n",
    "                                                      parameters=parameters)\n",
    "# SUB PIXEL DETECTION\n",
    "criteria = (cv2.TERM_CRITERIA_EPS + cv2.TERM_CRITERIA_MAX_ITER, 100, 0.0001)\n",
    "for corner in corners:\n",
    "    cv2.cornerSubPix(gray, corner, winSize = (3,3), zeroZone = (-1,-1), criteria = criteria)\n",
    "    \n",
    "frame_markers = aruco.drawDetectedMarkers(frame.copy(), corners, ids)\n",
    "\n",
    "corners"
   ]
  },
  {
   "cell_type": "markdown",
   "metadata": {},
   "source": [
    "Very fast processing !\n",
    "\n",
    "## Results"
   ]
  },
  {
   "cell_type": "code",
   "execution_count": null,
   "metadata": {},
   "outputs": [],
   "source": [
    "plt.figure()\n",
    "plt.imshow(frame_markers, interpolation = \"nearest\")\n",
    "\n",
    "plt.show()"
   ]
  },
  {
   "cell_type": "markdown",
   "metadata": {},
   "source": [
    "### Add local axis on each marker"
   ]
  },
  {
   "cell_type": "code",
   "execution_count": null,
   "metadata": {
    "collapsed": true
   },
   "outputs": [],
   "source": [
    "size_of_marker =  0.0285 # side lenght of the marker in meter\n",
    "rvecs,tvecs = aruco.estimatePoseSingleMarkers(corners, size_of_marker , mtx, dist)"
   ]
  },
  {
   "cell_type": "code",
   "execution_count": null,
   "metadata": {},
   "outputs": [],
   "source": [
    "length_of_axis = 0.1\n",
    "imaxis = aruco.drawDetectedMarkers(frame.copy(), corners, ids)\n",
    "\n",
    "for i in range(len(tvecs)):\n",
    "    imaxis = aruco.drawAxis(imaxis, mtx, dist, rvecs[i], tvecs[i], length_of_axis)"
   ]
  },
  {
   "cell_type": "code",
   "execution_count": null,
   "metadata": {},
   "outputs": [],
   "source": [
    "plt.figure()\n",
    "plt.imshow(imaxis)\n",
    "plt.grid()\n",
    "plt.show()"
   ]
  },
  {
   "cell_type": "code",
   "execution_count": null,
   "metadata": {},
   "outputs": [],
   "source": [
    "data = pd.DataFrame(data = tvecs.reshape(len(tvecs),3), columns = [\"tx\", \"ty\", \"tz\"], \n",
    "                    index = ids.flatten())\n",
    "data.index.name = \"marker\"\n",
    "data.sort_index(inplace= True)\n",
    "data"
   ]
  },
  {
   "cell_type": "code",
   "execution_count": null,
   "metadata": {},
   "outputs": [],
   "source": [
    "datar = pd.DataFrame(data = tvecs.reshape(len(rvecs),3), columns = [\"rx\", \"ry\", \"rz\"], \n",
    "                    index = ids.flatten())\n",
    "datar.index.name = \"marker\"\n",
    "datar.sort_index(inplace= True)\n",
    "np.degrees(datar)\n"
   ]
  },
  {
   "cell_type": "code",
   "execution_count": null,
   "metadata": {},
   "outputs": [],
   "source": [
    "v = data.loc[3:6].values\n",
    "((v[1:] - v[:-1])**2).sum(axis = 1)**.5"
   ]
  },
  {
   "cell_type": "code",
   "execution_count": null,
   "metadata": {},
   "outputs": [],
   "source": [
    "cv2.Rodrigues(rvecs[0], np.zeros((3,3)))"
   ]
  },
  {
   "cell_type": "code",
   "execution_count": null,
   "metadata": {},
   "outputs": [],
   "source": [
    "fig = plt.figure()\n",
    "#ax = fig.add_subplot(111, projection='3d')\n",
    "ax = fig.add_subplot(1,2,1)\n",
    "ax.set_aspect(\"equal\")\n",
    "plt.plot(data.tx, data.ty, \"or-\")\n",
    "plt.grid()\n",
    "ax = fig.add_subplot(1,2,2)\n",
    "plt.imshow(imaxis, origin = \"upper\")\n",
    "plt.plot(np.array(corners)[:, 0, 0,0], np.array(corners)[:, 0, 0,1], \"or\")\n",
    "plt.show()"
   ]
  },
  {
   "cell_type": "code",
   "execution_count": null,
   "metadata": {},
   "outputs": [],
   "source": [
    "a = np.arange(50)\n",
    "a"
   ]
  },
  {
   "cell_type": "code",
   "execution_count": null,
   "metadata": {
    "collapsed": true
   },
   "outputs": [],
   "source": [
    "import pickle"
   ]
  },
  {
   "cell_type": "code",
   "execution_count": null,
   "metadata": {
    "collapsed": true
   },
   "outputs": [],
   "source": [
    "f = open(\"truc.pckl\", \"wb\")\n",
    "pickle.dump(a, f)\n",
    "f.close()"
   ]
  },
  {
   "cell_type": "code",
   "execution_count": null,
   "metadata": {},
   "outputs": [],
   "source": [
    "f = open(\"truc.pckl\", \"rb\")\n",
    "b = pickle.load(f)\n",
    "b == a"
   ]
  },
  {
   "cell_type": "code",
   "execution_count": null,
   "metadata": {},
   "outputs": [],
   "source": [
    "corners = np.array(corners)\n",
    "data2 = pd.DataFrame({\"px\": corners[:, 0, 0, 1], \n",
    "                      \"py\": corners[:, 0, 0, 0]}, index = ids.flatten())\n",
    "data2.sort_index(inplace=True)\n",
    "data2"
   ]
  },
  {
   "cell_type": "code",
   "execution_count": null,
   "metadata": {},
   "outputs": [],
   "source": [
    "m0 = data2.loc[0]\n",
    "m43 = data2.loc[43]\n",
    "d01 = ((m0 - m43).values**2).sum()**.5\n",
    "d = 42.5e-3 * (3.5**2 + 4.5**2)**.5\n",
    "factor = d / d01\n",
    "data2[\"x\"] = data2.px * factor\n",
    "data2[\"y\"] = data2.py * factor\n",
    "((data2[[\"x\", \"y\"]].loc[11] - data2[[\"x\", \"y\"]].loc[0]).values**2).sum()**.5\n"
   ]
  },
  {
   "cell_type": "code",
   "execution_count": null,
   "metadata": {},
   "outputs": [],
   "source": [
    "\n",
    "c = np.array(corners).astype(np.float64).reshape(44,4,2)\n",
    "(((c[:, 1:] - c[:, :-1])**2).sum(axis = 2)**.5).mean(axis =1)"
   ]
  },
  {
   "cell_type": "code",
   "execution_count": null,
   "metadata": {
    "scrolled": false
   },
   "outputs": [],
   "source": [
    "c"
   ]
  },
  {
   "cell_type": "code",
   "execution_count": null,
   "metadata": {},
   "outputs": [],
   "source": [
    "help(cv2.aruco.detectMarkers)"
   ]
  },
  {
   "cell_type": "code",
   "execution_count": null,
   "metadata": {},
   "outputs": [],
   "source": []
  },
  {
   "cell_type": "code",
   "execution_count": null,
   "metadata": {
    "collapsed": true
   },
   "outputs": [],
   "source": []
  }
 ],
 "metadata": {
  "anaconda-cloud": {},
  "kernelspec": {
   "display_name": "Python 3",
   "language": "python",
   "name": "python3"
  },
  "language_info": {
   "codemirror_mode": {
    "name": "ipython",
    "version": 3
   },
   "file_extension": ".py",
   "mimetype": "text/x-python",
   "name": "python",
   "nbconvert_exporter": "python",
   "pygments_lexer": "ipython3",
   "version": "3.6.9"
  }
 },
 "nbformat": 4,
 "nbformat_minor": 1
}
